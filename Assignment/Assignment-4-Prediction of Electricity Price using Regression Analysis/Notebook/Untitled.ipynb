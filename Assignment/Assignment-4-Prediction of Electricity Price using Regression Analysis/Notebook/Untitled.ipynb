{
 "cells": [
  {
   "cell_type": "code",
   "execution_count": 1,
   "id": "56bf7a68",
   "metadata": {},
   "outputs": [],
   "source": [
    "import pandas as pd\n",
    "import numpy as np\n",
    "import matplotlib.pyplot as plt"
   ]
  },
  {
   "cell_type": "code",
   "execution_count": 2,
   "id": "8f734e82",
   "metadata": {},
   "outputs": [
    {
     "name": "stderr",
     "output_type": "stream",
     "text": [
      "C:\\Users\\navee\\AppData\\Local\\Temp\\ipykernel_6160\\2595534003.py:1: DtypeWarning: Columns (9,10,11,14,15,16,17) have mixed types. Specify dtype option on import or set low_memory=False.\n",
      "  df = pd.read_csv('electricity.csv')\n"
     ]
    }
   ],
   "source": [
    "df = pd.read_csv('electricity.csv')"
   ]
  },
  {
   "cell_type": "code",
   "execution_count": 6,
   "id": "1a0f5ecb",
   "metadata": {},
   "outputs": [],
   "source": [
    "df.drop('DateTime',axis = 1,inplace = True)"
   ]
  },
  {
   "cell_type": "code",
   "execution_count": 26,
   "id": "763f04d6",
   "metadata": {
    "scrolled": false
   },
   "outputs": [],
   "source": [
    "df.replace('?',np.nan,inplace = True)"
   ]
  },
  {
   "cell_type": "code",
   "execution_count": 28,
   "id": "91c8a7c4",
   "metadata": {
    "scrolled": true
   },
   "outputs": [
    {
     "data": {
      "text/plain": [
       "Holiday                   36478\n",
       "HolidayFlag                   0\n",
       "DayOfWeek                     0\n",
       "WeekOfYear                    0\n",
       "Day                           0\n",
       "Month                         0\n",
       "Year                          0\n",
       "PeriodOfDay                   0\n",
       "ForecastWindProduction        5\n",
       "SystemLoadEA                  2\n",
       "SMPEA                         2\n",
       "ORKTemperature              295\n",
       "ORKWindspeed                299\n",
       "CO2Intensity                  7\n",
       "ActualWindProduction          5\n",
       "SystemLoadEP2                 2\n",
       "SMPEP2                        2\n",
       "dtype: int64"
      ]
     },
     "execution_count": 28,
     "metadata": {},
     "output_type": "execute_result"
    }
   ],
   "source": [
    "df.isnull().sum()"
   ]
  },
  {
   "cell_type": "code",
   "execution_count": 41,
   "id": "e79b2584",
   "metadata": {},
   "outputs": [
    {
     "data": {
      "text/plain": [
       "Holiday\n",
       "Christmas Eve           144\n",
       "Christmas               144\n",
       "St Stephen's Day        144\n",
       "New Year's Eve          144\n",
       "New Year's Day           96\n",
       "St Patrick's Day         96\n",
       "Good Friday              96\n",
       "Holy Saturday            96\n",
       "Easter                   96\n",
       "Easter Monday            96\n",
       "May Day                  96\n",
       "June Bank Holiday        96\n",
       "August Bank Holiday      96\n",
       "October Bank Holiday     96\n",
       "Name: count, dtype: int64"
      ]
     },
     "execution_count": 41,
     "metadata": {},
     "output_type": "execute_result"
    }
   ],
   "source": [
    "df['Holiday'].value_counts()"
   ]
  },
  {
   "cell_type": "code",
   "execution_count": 50,
   "id": "868a7b23",
   "metadata": {},
   "outputs": [],
   "source": [
    "ls = df.columns[8:]"
   ]
  },
  {
   "cell_type": "code",
   "execution_count": 51,
   "id": "da8bb08d",
   "metadata": {},
   "outputs": [],
   "source": [
    "from sklearn.impute import SimpleImputer\n",
    "\n",
    "nullMean = SimpleImputer(missing_values = np.nan,strategy = 'mean')"
   ]
  },
  {
   "cell_type": "code",
   "execution_count": 57,
   "id": "ef6353e1",
   "metadata": {},
   "outputs": [],
   "source": [
    "df[ls] = nullMean.fit_transform(df[ls])"
   ]
  },
  {
   "cell_type": "code",
   "execution_count": 59,
   "id": "e798f0d7",
   "metadata": {},
   "outputs": [
    {
     "data": {
      "text/plain": [
       "Holiday                   36478\n",
       "HolidayFlag                   0\n",
       "DayOfWeek                     0\n",
       "WeekOfYear                    0\n",
       "Day                           0\n",
       "Month                         0\n",
       "Year                          0\n",
       "PeriodOfDay                   0\n",
       "ForecastWindProduction        0\n",
       "SystemLoadEA                  0\n",
       "SMPEA                         0\n",
       "ORKTemperature                0\n",
       "ORKWindspeed                  0\n",
       "CO2Intensity                  0\n",
       "ActualWindProduction          0\n",
       "SystemLoadEP2                 0\n",
       "SMPEP2                        0\n",
       "dtype: int64"
      ]
     },
     "execution_count": 59,
     "metadata": {},
     "output_type": "execute_result"
    }
   ],
   "source": [
    "df.isnull().sum()"
   ]
  },
  {
   "cell_type": "code",
   "execution_count": 8,
   "id": "33fb14f9",
   "metadata": {},
   "outputs": [
    {
     "data": {
      "text/html": [
       "<div>\n",
       "<style scoped>\n",
       "    .dataframe tbody tr th:only-of-type {\n",
       "        vertical-align: middle;\n",
       "    }\n",
       "\n",
       "    .dataframe tbody tr th {\n",
       "        vertical-align: top;\n",
       "    }\n",
       "\n",
       "    .dataframe thead th {\n",
       "        text-align: right;\n",
       "    }\n",
       "</style>\n",
       "<table border=\"1\" class=\"dataframe\">\n",
       "  <thead>\n",
       "    <tr style=\"text-align: right;\">\n",
       "      <th></th>\n",
       "      <th>HolidayFlag</th>\n",
       "      <th>DayOfWeek</th>\n",
       "      <th>WeekOfYear</th>\n",
       "      <th>Day</th>\n",
       "      <th>Month</th>\n",
       "      <th>Year</th>\n",
       "      <th>PeriodOfDay</th>\n",
       "    </tr>\n",
       "  </thead>\n",
       "  <tbody>\n",
       "    <tr>\n",
       "      <th>count</th>\n",
       "      <td>38014.000000</td>\n",
       "      <td>38014.000000</td>\n",
       "      <td>38014.000000</td>\n",
       "      <td>38014.000000</td>\n",
       "      <td>38014.000000</td>\n",
       "      <td>38014.000000</td>\n",
       "      <td>38014.000000</td>\n",
       "    </tr>\n",
       "    <tr>\n",
       "      <th>mean</th>\n",
       "      <td>0.040406</td>\n",
       "      <td>2.997317</td>\n",
       "      <td>28.124586</td>\n",
       "      <td>15.739412</td>\n",
       "      <td>6.904246</td>\n",
       "      <td>2012.383859</td>\n",
       "      <td>23.501105</td>\n",
       "    </tr>\n",
       "    <tr>\n",
       "      <th>std</th>\n",
       "      <td>0.196912</td>\n",
       "      <td>1.999959</td>\n",
       "      <td>15.587575</td>\n",
       "      <td>8.804247</td>\n",
       "      <td>3.573696</td>\n",
       "      <td>0.624956</td>\n",
       "      <td>13.853108</td>\n",
       "    </tr>\n",
       "    <tr>\n",
       "      <th>min</th>\n",
       "      <td>0.000000</td>\n",
       "      <td>0.000000</td>\n",
       "      <td>1.000000</td>\n",
       "      <td>1.000000</td>\n",
       "      <td>1.000000</td>\n",
       "      <td>2011.000000</td>\n",
       "      <td>0.000000</td>\n",
       "    </tr>\n",
       "    <tr>\n",
       "      <th>25%</th>\n",
       "      <td>0.000000</td>\n",
       "      <td>1.000000</td>\n",
       "      <td>15.000000</td>\n",
       "      <td>8.000000</td>\n",
       "      <td>4.000000</td>\n",
       "      <td>2012.000000</td>\n",
       "      <td>12.000000</td>\n",
       "    </tr>\n",
       "    <tr>\n",
       "      <th>50%</th>\n",
       "      <td>0.000000</td>\n",
       "      <td>3.000000</td>\n",
       "      <td>29.000000</td>\n",
       "      <td>16.000000</td>\n",
       "      <td>7.000000</td>\n",
       "      <td>2012.000000</td>\n",
       "      <td>24.000000</td>\n",
       "    </tr>\n",
       "    <tr>\n",
       "      <th>75%</th>\n",
       "      <td>0.000000</td>\n",
       "      <td>5.000000</td>\n",
       "      <td>43.000000</td>\n",
       "      <td>23.000000</td>\n",
       "      <td>10.000000</td>\n",
       "      <td>2013.000000</td>\n",
       "      <td>35.750000</td>\n",
       "    </tr>\n",
       "    <tr>\n",
       "      <th>max</th>\n",
       "      <td>1.000000</td>\n",
       "      <td>6.000000</td>\n",
       "      <td>52.000000</td>\n",
       "      <td>31.000000</td>\n",
       "      <td>12.000000</td>\n",
       "      <td>2013.000000</td>\n",
       "      <td>47.000000</td>\n",
       "    </tr>\n",
       "  </tbody>\n",
       "</table>\n",
       "</div>"
      ],
      "text/plain": [
       "        HolidayFlag     DayOfWeek    WeekOfYear           Day         Month  \\\n",
       "count  38014.000000  38014.000000  38014.000000  38014.000000  38014.000000   \n",
       "mean       0.040406      2.997317     28.124586     15.739412      6.904246   \n",
       "std        0.196912      1.999959     15.587575      8.804247      3.573696   \n",
       "min        0.000000      0.000000      1.000000      1.000000      1.000000   \n",
       "25%        0.000000      1.000000     15.000000      8.000000      4.000000   \n",
       "50%        0.000000      3.000000     29.000000     16.000000      7.000000   \n",
       "75%        0.000000      5.000000     43.000000     23.000000     10.000000   \n",
       "max        1.000000      6.000000     52.000000     31.000000     12.000000   \n",
       "\n",
       "               Year   PeriodOfDay  \n",
       "count  38014.000000  38014.000000  \n",
       "mean    2012.383859     23.501105  \n",
       "std        0.624956     13.853108  \n",
       "min     2011.000000      0.000000  \n",
       "25%     2012.000000     12.000000  \n",
       "50%     2012.000000     24.000000  \n",
       "75%     2013.000000     35.750000  \n",
       "max     2013.000000     47.000000  "
      ]
     },
     "execution_count": 8,
     "metadata": {},
     "output_type": "execute_result"
    }
   ],
   "source": [
    "df.describe()"
   ]
  },
  {
   "cell_type": "code",
   "execution_count": 9,
   "id": "07599757",
   "metadata": {
    "scrolled": false
   },
   "outputs": [
    {
     "name": "stdout",
     "output_type": "stream",
     "text": [
      "<class 'pandas.core.frame.DataFrame'>\n",
      "RangeIndex: 38014 entries, 0 to 38013\n",
      "Data columns (total 17 columns):\n",
      " #   Column                  Non-Null Count  Dtype \n",
      "---  ------                  --------------  ----- \n",
      " 0   Holiday                 1536 non-null   object\n",
      " 1   HolidayFlag             38014 non-null  int64 \n",
      " 2   DayOfWeek               38014 non-null  int64 \n",
      " 3   WeekOfYear              38014 non-null  int64 \n",
      " 4   Day                     38014 non-null  int64 \n",
      " 5   Month                   38014 non-null  int64 \n",
      " 6   Year                    38014 non-null  int64 \n",
      " 7   PeriodOfDay             38014 non-null  int64 \n",
      " 8   ForecastWindProduction  38014 non-null  object\n",
      " 9   SystemLoadEA            38014 non-null  object\n",
      " 10  SMPEA                   38014 non-null  object\n",
      " 11  ORKTemperature          38014 non-null  object\n",
      " 12  ORKWindspeed            38014 non-null  object\n",
      " 13  CO2Intensity            38014 non-null  object\n",
      " 14  ActualWindProduction    38014 non-null  object\n",
      " 15  SystemLoadEP2           38014 non-null  object\n",
      " 16  SMPEP2                  38014 non-null  object\n",
      "dtypes: int64(7), object(10)\n",
      "memory usage: 4.9+ MB\n"
     ]
    }
   ],
   "source": [
    "df.info()"
   ]
  },
  {
   "cell_type": "code",
   "execution_count": 11,
   "id": "15495718",
   "metadata": {
    "scrolled": false
   },
   "outputs": [
    {
     "data": {
      "text/plain": [
       "Holiday                   36478\n",
       "HolidayFlag                   0\n",
       "DayOfWeek                     0\n",
       "WeekOfYear                    0\n",
       "Day                           0\n",
       "Month                         0\n",
       "Year                          0\n",
       "PeriodOfDay                   0\n",
       "ForecastWindProduction        0\n",
       "SystemLoadEA                  0\n",
       "SMPEA                         0\n",
       "ORKTemperature                0\n",
       "ORKWindspeed                  0\n",
       "CO2Intensity                  0\n",
       "ActualWindProduction          0\n",
       "SystemLoadEP2                 0\n",
       "SMPEP2                        0\n",
       "dtype: int64"
      ]
     },
     "execution_count": 11,
     "metadata": {},
     "output_type": "execute_result"
    }
   ],
   "source": [
    "df.isnull().sum()"
   ]
  },
  {
   "cell_type": "code",
   "execution_count": 60,
   "id": "e8bd7712",
   "metadata": {},
   "outputs": [],
   "source": [
    "df.to_csv('newcsv.csv')"
   ]
  },
  {
   "cell_type": "code",
   "execution_count": null,
   "id": "15251867",
   "metadata": {},
   "outputs": [],
   "source": []
  }
 ],
 "metadata": {
  "kernelspec": {
   "display_name": "Python 3 (ipykernel)",
   "language": "python",
   "name": "python3"
  },
  "language_info": {
   "codemirror_mode": {
    "name": "ipython",
    "version": 3
   },
   "file_extension": ".py",
   "mimetype": "text/x-python",
   "name": "python",
   "nbconvert_exporter": "python",
   "pygments_lexer": "ipython3",
   "version": "3.11.5"
  }
 },
 "nbformat": 4,
 "nbformat_minor": 5
}
