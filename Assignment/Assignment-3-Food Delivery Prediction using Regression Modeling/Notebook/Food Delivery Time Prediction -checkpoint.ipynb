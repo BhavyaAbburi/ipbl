{
 "cells": [
  {
   "cell_type": "code",
   "execution_count": 14,
   "id": "f2595fb5",
   "metadata": {},
   "outputs": [],
   "source": [
    "import numpy as np\n",
    "import pandas as pd\n",
    "import matplotlib.pyplot as plt\n",
    "import seaborn as sns\n",
    "import scipy.stats as stats\n",
    "import statistics"
   ]
  },
  {
   "cell_type": "code",
   "execution_count": 57,
   "id": "5ee48ac1",
   "metadata": {},
   "outputs": [],
   "source": [
    "from sklearn.model_selection import train_test_split,cross_val_score, GridSearchCV\n",
    "from sklearn.preprocessing import LabelEncoder,StandardScaler\n",
    "from sklearn.linear_model import LinearRegression\n",
    "from sklearn.tree import DecisionTreeRegressor\n",
    "from sklearn.ensemble import RandomForestRegressor\n",
    "from xgboost import XGBRegressor\n",
    "from sklearn.metrics import mean_squared_error, r2_score,mean_absolute_error"
   ]
  },
  {
   "cell_type": "code",
   "execution_count": 37,
   "id": "a017563e",
   "metadata": {},
   "outputs": [],
   "source": [
    "# !pip install geopy"
   ]
  },
  {
   "cell_type": "code",
   "execution_count": 38,
   "id": "acb7debf",
   "metadata": {},
   "outputs": [],
   "source": [
    "from geopy.distance import geodesic"
   ]
  },
  {
   "cell_type": "code",
   "execution_count": null,
   "id": "ae6e4665",
   "metadata": {},
   "outputs": [],
   "source": []
  },
  {
   "cell_type": "code",
   "execution_count": 39,
   "id": "e35066fe",
   "metadata": {},
   "outputs": [],
   "source": [
    "#Load Dataset"
   ]
  },
  {
   "cell_type": "code",
   "execution_count": 40,
   "id": "3e0ae9d8",
   "metadata": {},
   "outputs": [],
   "source": [
    "import os\n",
    "os.chdir('C:\\\\Users\\\\navee\\\\IPBL\\\\week4')"
   ]
  },
  {
   "cell_type": "code",
   "execution_count": 41,
   "id": "8f9c25e8",
   "metadata": {},
   "outputs": [],
   "source": [
    "df_train = pd.read_csv('deliverytime.txt')"
   ]
  },
  {
   "cell_type": "code",
   "execution_count": 42,
   "id": "13f60b07",
   "metadata": {},
   "outputs": [
    {
     "name": "stdout",
     "output_type": "stream",
     "text": [
      "<class 'pandas.core.frame.DataFrame'>\n",
      "RangeIndex: 45501 entries, 0 to 45500\n",
      "Data columns (total 11 columns):\n",
      " #   Column                       Non-Null Count  Dtype  \n",
      "---  ------                       --------------  -----  \n",
      " 0   ID                           45501 non-null  object \n",
      " 1   Delivery_person_ID           45501 non-null  object \n",
      " 2   Delivery_person_Age          45501 non-null  int64  \n",
      " 3   Delivery_person_Ratings      45501 non-null  float64\n",
      " 4   Restaurant_latitude          45501 non-null  float64\n",
      " 5   Restaurant_longitude         45501 non-null  float64\n",
      " 6   Delivery_location_latitude   45501 non-null  float64\n",
      " 7   Delivery_location_longitude  45501 non-null  float64\n",
      " 8   Type_of_order                45501 non-null  object \n",
      " 9   Type_of_vehicle              45501 non-null  object \n",
      " 10  Time_taken(min)              45501 non-null  int64  \n",
      "dtypes: float64(5), int64(2), object(4)\n",
      "memory usage: 3.8+ MB\n"
     ]
    }
   ],
   "source": [
    "df_train.info()"
   ]
  },
  {
   "cell_type": "code",
   "execution_count": 43,
   "id": "c455a47a",
   "metadata": {},
   "outputs": [
    {
     "data": {
      "text/html": [
       "<div>\n",
       "<style scoped>\n",
       "    .dataframe tbody tr th:only-of-type {\n",
       "        vertical-align: middle;\n",
       "    }\n",
       "\n",
       "    .dataframe tbody tr th {\n",
       "        vertical-align: top;\n",
       "    }\n",
       "\n",
       "    .dataframe thead th {\n",
       "        text-align: right;\n",
       "    }\n",
       "</style>\n",
       "<table border=\"1\" class=\"dataframe\">\n",
       "  <thead>\n",
       "    <tr style=\"text-align: right;\">\n",
       "      <th></th>\n",
       "      <th>count</th>\n",
       "      <th>mean</th>\n",
       "      <th>std</th>\n",
       "      <th>min</th>\n",
       "      <th>25%</th>\n",
       "      <th>50%</th>\n",
       "      <th>75%</th>\n",
       "      <th>max</th>\n",
       "    </tr>\n",
       "  </thead>\n",
       "  <tbody>\n",
       "    <tr>\n",
       "      <th>Delivery_person_Age</th>\n",
       "      <td>45501.0</td>\n",
       "      <td>29.544120</td>\n",
       "      <td>5.697346</td>\n",
       "      <td>15.000000</td>\n",
       "      <td>25.000000</td>\n",
       "      <td>29.000000</td>\n",
       "      <td>34.000000</td>\n",
       "      <td>50.000000</td>\n",
       "    </tr>\n",
       "    <tr>\n",
       "      <th>Delivery_person_Ratings</th>\n",
       "      <td>45501.0</td>\n",
       "      <td>4.632340</td>\n",
       "      <td>0.327829</td>\n",
       "      <td>1.000000</td>\n",
       "      <td>4.600000</td>\n",
       "      <td>4.700000</td>\n",
       "      <td>4.800000</td>\n",
       "      <td>6.000000</td>\n",
       "    </tr>\n",
       "    <tr>\n",
       "      <th>Restaurant_latitude</th>\n",
       "      <td>45501.0</td>\n",
       "      <td>17.020161</td>\n",
       "      <td>8.184361</td>\n",
       "      <td>-30.905562</td>\n",
       "      <td>12.933284</td>\n",
       "      <td>18.551440</td>\n",
       "      <td>22.728163</td>\n",
       "      <td>30.914057</td>\n",
       "    </tr>\n",
       "    <tr>\n",
       "      <th>Restaurant_longitude</th>\n",
       "      <td>45501.0</td>\n",
       "      <td>70.238395</td>\n",
       "      <td>22.870607</td>\n",
       "      <td>-88.366217</td>\n",
       "      <td>73.170000</td>\n",
       "      <td>75.897429</td>\n",
       "      <td>78.044095</td>\n",
       "      <td>88.433452</td>\n",
       "    </tr>\n",
       "    <tr>\n",
       "      <th>Delivery_location_latitude</th>\n",
       "      <td>45501.0</td>\n",
       "      <td>17.467833</td>\n",
       "      <td>7.333677</td>\n",
       "      <td>0.010000</td>\n",
       "      <td>12.989096</td>\n",
       "      <td>18.634382</td>\n",
       "      <td>22.785207</td>\n",
       "      <td>31.054057</td>\n",
       "    </tr>\n",
       "    <tr>\n",
       "      <th>Delivery_location_longitude</th>\n",
       "      <td>45501.0</td>\n",
       "      <td>70.850475</td>\n",
       "      <td>21.112215</td>\n",
       "      <td>0.010000</td>\n",
       "      <td>73.280283</td>\n",
       "      <td>76.002574</td>\n",
       "      <td>78.107044</td>\n",
       "      <td>88.563452</td>\n",
       "    </tr>\n",
       "    <tr>\n",
       "      <th>Time_taken(min)</th>\n",
       "      <td>45501.0</td>\n",
       "      <td>26.293950</td>\n",
       "      <td>9.384537</td>\n",
       "      <td>10.000000</td>\n",
       "      <td>19.000000</td>\n",
       "      <td>26.000000</td>\n",
       "      <td>32.000000</td>\n",
       "      <td>54.000000</td>\n",
       "    </tr>\n",
       "  </tbody>\n",
       "</table>\n",
       "</div>"
      ],
      "text/plain": [
       "                               count       mean        std        min  \\\n",
       "Delivery_person_Age          45501.0  29.544120   5.697346  15.000000   \n",
       "Delivery_person_Ratings      45501.0   4.632340   0.327829   1.000000   \n",
       "Restaurant_latitude          45501.0  17.020161   8.184361 -30.905562   \n",
       "Restaurant_longitude         45501.0  70.238395  22.870607 -88.366217   \n",
       "Delivery_location_latitude   45501.0  17.467833   7.333677   0.010000   \n",
       "Delivery_location_longitude  45501.0  70.850475  21.112215   0.010000   \n",
       "Time_taken(min)              45501.0  26.293950   9.384537  10.000000   \n",
       "\n",
       "                                   25%        50%        75%        max  \n",
       "Delivery_person_Age          25.000000  29.000000  34.000000  50.000000  \n",
       "Delivery_person_Ratings       4.600000   4.700000   4.800000   6.000000  \n",
       "Restaurant_latitude          12.933284  18.551440  22.728163  30.914057  \n",
       "Restaurant_longitude         73.170000  75.897429  78.044095  88.433452  \n",
       "Delivery_location_latitude   12.989096  18.634382  22.785207  31.054057  \n",
       "Delivery_location_longitude  73.280283  76.002574  78.107044  88.563452  \n",
       "Time_taken(min)              19.000000  26.000000  32.000000  54.000000  "
      ]
     },
     "execution_count": 43,
     "metadata": {},
     "output_type": "execute_result"
    }
   ],
   "source": [
    "#Summary Statistics for numerical columns\n",
    "df_train.describe().T"
   ]
  },
  {
   "cell_type": "code",
   "execution_count": 44,
   "id": "1949e25f",
   "metadata": {},
   "outputs": [
    {
     "data": {
      "text/html": [
       "<div>\n",
       "<style scoped>\n",
       "    .dataframe tbody tr th:only-of-type {\n",
       "        vertical-align: middle;\n",
       "    }\n",
       "\n",
       "    .dataframe tbody tr th {\n",
       "        vertical-align: top;\n",
       "    }\n",
       "\n",
       "    .dataframe thead th {\n",
       "        text-align: right;\n",
       "    }\n",
       "</style>\n",
       "<table border=\"1\" class=\"dataframe\">\n",
       "  <thead>\n",
       "    <tr style=\"text-align: right;\">\n",
       "      <th></th>\n",
       "      <th>count</th>\n",
       "      <th>unique</th>\n",
       "      <th>top</th>\n",
       "      <th>freq</th>\n",
       "    </tr>\n",
       "  </thead>\n",
       "  <tbody>\n",
       "    <tr>\n",
       "      <th>ID</th>\n",
       "      <td>45501</td>\n",
       "      <td>45359</td>\n",
       "      <td>6E+09</td>\n",
       "      <td>3</td>\n",
       "    </tr>\n",
       "    <tr>\n",
       "      <th>Delivery_person_ID</th>\n",
       "      <td>45501</td>\n",
       "      <td>1320</td>\n",
       "      <td>JAPRES11DEL02</td>\n",
       "      <td>67</td>\n",
       "    </tr>\n",
       "    <tr>\n",
       "      <th>Type_of_order</th>\n",
       "      <td>45501</td>\n",
       "      <td>4</td>\n",
       "      <td>Snack</td>\n",
       "      <td>11506</td>\n",
       "    </tr>\n",
       "    <tr>\n",
       "      <th>Type_of_vehicle</th>\n",
       "      <td>45501</td>\n",
       "      <td>4</td>\n",
       "      <td>motorcycle</td>\n",
       "      <td>26383</td>\n",
       "    </tr>\n",
       "  </tbody>\n",
       "</table>\n",
       "</div>"
      ],
      "text/plain": [
       "                    count unique            top   freq\n",
       "ID                  45501  45359          6E+09      3\n",
       "Delivery_person_ID  45501   1320  JAPRES11DEL02     67\n",
       "Type_of_order       45501      4         Snack   11506\n",
       "Type_of_vehicle     45501      4    motorcycle   26383"
      ]
     },
     "execution_count": 44,
     "metadata": {},
     "output_type": "execute_result"
    }
   ],
   "source": [
    "#Summary Statistics for non-numerical columns\n",
    "df_train.describe(exclude=np.number).T"
   ]
  },
  {
   "cell_type": "markdown",
   "id": "e8b7a499",
   "metadata": {},
   "source": [
    "#Key Observations\n",
    "The Time_Ordered column contains NaN values that require handling.\n",
    "We need to explore other columns for potential null values.\n",
    "The Time_taken(min) column should be converted to a numerical value instead of an object.\n",
    "We need to address the object datatypes in the dataset.\n",
    "Date and time features also require handling and preprocessing."
   ]
  },
  {
   "cell_type": "code",
   "execution_count": 45,
   "id": "930280bc",
   "metadata": {},
   "outputs": [],
   "source": [
    "#Update Data Types\n",
    "def update_datatype(df):\n",
    "    #Update datatype from object to float\n",
    "    df_train['Delivery_person_Age'] = df_train['Delivery_person_Age'].astype('float64')\n",
    "    df_train['Delivery_person_Ratings'] = df_train['Delivery_person_Ratings'].astype('float64')\n",
    "   \n",
    "    \n",
    "update_datatype(df_train)"
   ]
  },
  {
   "cell_type": "code",
   "execution_count": 46,
   "id": "ade340da",
   "metadata": {},
   "outputs": [],
   "source": [
    "#Drop columns\n",
    "df_train.drop(['ID','Delivery_person_ID'],axis=1,inplace=True)"
   ]
  },
  {
   "cell_type": "code",
   "execution_count": 47,
   "id": "0294ff69",
   "metadata": {},
   "outputs": [
    {
     "name": "stdout",
     "output_type": "stream",
     "text": [
      "There are Duplicate values present\n"
     ]
    }
   ],
   "source": [
    "#Check for duplicate values\n",
    "if (len(df_train[df_train.duplicated()])>0):\n",
    "    print(\"There are Duplicate values present\")\n",
    "else:\n",
    "    print(\"There is no duplicate value present\")"
   ]
  },
  {
   "cell_type": "code",
   "execution_count": 48,
   "id": "28bc1a45",
   "metadata": {},
   "outputs": [
    {
     "data": {
      "text/plain": [
       "Delivery_person_Age            0\n",
       "Delivery_person_Ratings        0\n",
       "Restaurant_latitude            0\n",
       "Restaurant_longitude           0\n",
       "Delivery_location_latitude     0\n",
       "Delivery_location_longitude    0\n",
       "Type_of_order                  0\n",
       "Type_of_vehicle                0\n",
       "Time_taken(min)                0\n",
       "dtype: int64"
      ]
     },
     "execution_count": 48,
     "metadata": {},
     "output_type": "execute_result"
    }
   ],
   "source": [
    "#Handle Missing Values\n",
    "#Replace NaN to np.nan\n",
    "df_train.replace('NaN', float(np.nan), regex=True,inplace=True)\n",
    "#Show count of NaN values in data\n",
    "df_train.isnull().sum().sort_values(ascending=False)"
   ]
  },
  {
   "cell_type": "code",
   "execution_count": 49,
   "id": "1a059eed",
   "metadata": {},
   "outputs": [
    {
     "data": {
      "text/plain": [
       "Delivery_person_Age            0\n",
       "Delivery_person_Ratings        0\n",
       "Restaurant_latitude            0\n",
       "Restaurant_longitude           0\n",
       "Delivery_location_latitude     0\n",
       "Delivery_location_longitude    0\n",
       "Type_of_order                  0\n",
       "Type_of_vehicle                0\n",
       "Time_taken(min)                0\n",
       "dtype: int64"
      ]
     },
     "execution_count": 49,
     "metadata": {},
     "output_type": "execute_result"
    }
   ],
   "source": [
    "#Handle null values\n",
    "def handle_null_values(df):\n",
    "    df['Delivery_person_Age'].fillna(np.random.choice(df['Delivery_person_Age']), inplace=True)\n",
    "    df['Delivery_person_Ratings'].fillna(df['Delivery_person_Ratings'].median(), inplace=True)\n",
    "    \n",
    "handle_null_values(df_train)\n",
    "df_train.isnull().sum()"
   ]
  },
  {
   "cell_type": "code",
   "execution_count": 50,
   "id": "2ea06cb2",
   "metadata": {},
   "outputs": [],
   "source": [
    "#Calculate distance between restaurant location & delivery location\n",
    "def calculate_distance(df):\n",
    "    df['distance']=np.zeros(len(df))\n",
    "    restaurant_coordinates=df[['Restaurant_latitude','Restaurant_longitude']].to_numpy()\n",
    "    delivery_location_coordinates=df[['Delivery_location_latitude','Delivery_location_longitude']].to_numpy()\n",
    "    df['distance'] = np.array([geodesic(restaurant, delivery) for restaurant, delivery in zip(restaurant_coordinates, delivery_location_coordinates)])\n",
    "    df['distance']= df['distance'].astype(\"str\").str.extract('(\\d+)').astype(\"int64\")\n",
    "    \n",
    "calculate_distance(df_train)"
   ]
  },
  {
   "cell_type": "code",
   "execution_count": 51,
   "id": "928a4ba9",
   "metadata": {},
   "outputs": [],
   "source": [
    "#Categorical Feature Encoding\n",
    "def label_encoding(df):\n",
    "    categorical_columns = df.select_dtypes(include='object').columns\n",
    "    label_encoder = LabelEncoder()\n",
    "    df[categorical_columns] = df[categorical_columns].apply(lambda col: label_encoder.fit_transform(col))\n",
    "\n",
    "label_encoding(df_train)"
   ]
  },
  {
   "cell_type": "code",
   "execution_count": 52,
   "id": "0f8df04c",
   "metadata": {},
   "outputs": [],
   "source": [
    "#Split Training & Test Data\n",
    "X = df_train.drop('Time_taken(min)', axis=1)  # Features\n",
    "y = df_train['Time_taken(min)']  # Target variable\n",
    "\n",
    "# Split the data into train and test sets\n",
    "X_train, X_test, y_train, y_test = train_test_split(X, y, test_size=0.2, random_state=42)"
   ]
  },
  {
   "cell_type": "code",
   "execution_count": 53,
   "id": "dab910ee",
   "metadata": {},
   "outputs": [],
   "source": [
    "#Data Standardisation\n",
    "# Create a StandardScaler object\n",
    "scaler = StandardScaler()\n",
    "\n",
    "# Fit the scaler on the training data\n",
    "scaler.fit(X_train)\n",
    "\n",
    "# Perform standardization on the training data\n",
    "X_train = scaler.transform(X_train)\n",
    "\n",
    "# Perform standardization on the testing data\n",
    "X_test = scaler.transform(X_test)"
   ]
  },
  {
   "cell_type": "code",
   "execution_count": 72,
   "id": "5f802233",
   "metadata": {},
   "outputs": [
    {
     "name": "stdout",
     "output_type": "stream",
     "text": [
      "LinearRegression:\n",
      "Best parameters: {}\n",
      "Best R2 score: 0.18975401022190078\n",
      "\n",
      "DecisionTreeRegressor:\n",
      "Best parameters: {'max_depth': 7}\n",
      "Best R2 score: 0.4047349097675633\n",
      "\n",
      "XGBRegressor:\n",
      "Best parameters: {'n_estimators': 100}\n",
      "Best R2 score: 0.3796120216647073\n",
      "\n"
     ]
    }
   ],
   "source": [
    "from sklearn.model_selection import GridSearchCV#Build the Regrssion Model\n",
    "models = [LinearRegression(),DecisionTreeRegressor(),XGBRegressor()]\n",
    "\n",
    "param_grid = [\n",
    "    {},  \n",
    "    {'max_depth': [3, 5, 7]},\n",
    "    {'n_estimators': [100, 200, 300]},\n",
    "    {'n_estimators': [20, 25, 30], 'max_depth': [5, 7, 9]},\n",
    "]\n",
    "\n",
    "for i, model in enumerate(models):\n",
    "    grid_search = GridSearchCV(model, param_grid[i], cv=5, scoring='r2')\n",
    "    grid_search.fit(X_train, y_train)\n",
    "\n",
    "    print(f\"{model.__class__.__name__}:\")\n",
    "    print(\"Best parameters:\", grid_search.best_params_)\n",
    "    print(\"Best R2 score:\", grid_search.best_score_)\n",
    "    print()"
   ]
  },
  {
   "cell_type": "code",
   "execution_count": 77,
   "id": "ae4eb994",
   "metadata": {},
   "outputs": [
    {
     "name": "stdout",
     "output_type": "stream",
     "text": [
      "RandomForestRegressor:\n",
      "Best parameters: {}\n",
      "Best R2 score: 0.3284873427489584\n",
      "\n"
     ]
    }
   ],
   "source": [
    "from sklearn.model_selection import GridSearchCV#Build the Regrssion Model\n",
    "models = [RandomForestRegressor()]\n",
    "\n",
    "param_grid = [\n",
    "    {},  \n",
    "    {'max_depth': [3, 5, 7]},\n",
    "    {'n_estimators': [100, 200, 300]},\n",
    "    {'n_estimators': [20, 25, 30], 'max_depth': [5, 7, 9]},\n",
    "]\n",
    "\n",
    "for i, model in enumerate(models):\n",
    "    grid_search = GridSearchCV(model, param_grid[i], cv=5, scoring='r2')\n",
    "    grid_search.fit(X_train, y_train)\n",
    "\n",
    "    print(f\"{model.__class__.__name__}:\")\n",
    "    print(\"Best parameters:\", grid_search.best_params_)\n",
    "    print(\"Best R2 score:\", grid_search.best_score_)\n",
    "    print()"
   ]
  },
  {
   "cell_type": "code",
   "execution_count": 79,
   "id": "ff0c0d62",
   "metadata": {},
   "outputs": [
    {
     "name": "stdout",
     "output_type": "stream",
     "text": [
      "LinearRegression:\n",
      "Best parameters: {}\n",
      "Best R2 score: 0.18975401022190078\n",
      "\n",
      "DecisionTreeRegressor:\n",
      "Best parameters: {'max_depth': 7}\n",
      "Best R2 score: 0.4051245167713658\n",
      "\n",
      "RandomForestRegressor:\n",
      "Best parameters: {'n_estimators': 300}\n",
      "Best R2 score: 0.3326701385557938\n",
      "\n",
      "XGBRegressor:\n",
      "Best parameters: {'max_depth': 5, 'n_estimators': 20}\n",
      "Best R2 score: 0.40880892576448974\n",
      "\n"
     ]
    }
   ],
   "source": [
    "from sklearn.model_selection import GridSearchCV#Build the Regrssion Model\n",
    "models = [LinearRegression(),DecisionTreeRegressor(), RandomForestRegressor(), XGBRegressor()]\n",
    "\n",
    "param_grid = [\n",
    "    {},  \n",
    "    {'max_depth': [3, 5, 7]},\n",
    "    {'n_estimators': [100, 200, 300]},\n",
    "    {'n_estimators': [20, 25, 30], 'max_depth': [5, 7, 9]},\n",
    "]\n",
    "\n",
    "for i, model in enumerate(models):\n",
    "    grid_search = GridSearchCV(model, param_grid[i], cv=5, scoring='r2')\n",
    "    grid_search.fit(X_train, y_train)\n",
    "\n",
    "    print(f\"{model.__class__.__name__}:\")\n",
    "    print(\"Best parameters:\", grid_search.best_params_)\n",
    "    print(\"Best R2 score:\", grid_search.best_score_)\n",
    "    print()"
   ]
  },
  {
   "cell_type": "code",
   "execution_count": 74,
   "id": "d4bc939e",
   "metadata": {},
   "outputs": [
    {
     "data": {
      "text/html": [
       "<style>#sk-container-id-1 {color: black;}#sk-container-id-1 pre{padding: 0;}#sk-container-id-1 div.sk-toggleable {background-color: white;}#sk-container-id-1 label.sk-toggleable__label {cursor: pointer;display: block;width: 100%;margin-bottom: 0;padding: 0.3em;box-sizing: border-box;text-align: center;}#sk-container-id-1 label.sk-toggleable__label-arrow:before {content: \"▸\";float: left;margin-right: 0.25em;color: #696969;}#sk-container-id-1 label.sk-toggleable__label-arrow:hover:before {color: black;}#sk-container-id-1 div.sk-estimator:hover label.sk-toggleable__label-arrow:before {color: black;}#sk-container-id-1 div.sk-toggleable__content {max-height: 0;max-width: 0;overflow: hidden;text-align: left;background-color: #f0f8ff;}#sk-container-id-1 div.sk-toggleable__content pre {margin: 0.2em;color: black;border-radius: 0.25em;background-color: #f0f8ff;}#sk-container-id-1 input.sk-toggleable__control:checked~div.sk-toggleable__content {max-height: 200px;max-width: 100%;overflow: auto;}#sk-container-id-1 input.sk-toggleable__control:checked~label.sk-toggleable__label-arrow:before {content: \"▾\";}#sk-container-id-1 div.sk-estimator input.sk-toggleable__control:checked~label.sk-toggleable__label {background-color: #d4ebff;}#sk-container-id-1 div.sk-label input.sk-toggleable__control:checked~label.sk-toggleable__label {background-color: #d4ebff;}#sk-container-id-1 input.sk-hidden--visually {border: 0;clip: rect(1px 1px 1px 1px);clip: rect(1px, 1px, 1px, 1px);height: 1px;margin: -1px;overflow: hidden;padding: 0;position: absolute;width: 1px;}#sk-container-id-1 div.sk-estimator {font-family: monospace;background-color: #f0f8ff;border: 1px dotted black;border-radius: 0.25em;box-sizing: border-box;margin-bottom: 0.5em;}#sk-container-id-1 div.sk-estimator:hover {background-color: #d4ebff;}#sk-container-id-1 div.sk-parallel-item::after {content: \"\";width: 100%;border-bottom: 1px solid gray;flex-grow: 1;}#sk-container-id-1 div.sk-label:hover label.sk-toggleable__label {background-color: #d4ebff;}#sk-container-id-1 div.sk-serial::before {content: \"\";position: absolute;border-left: 1px solid gray;box-sizing: border-box;top: 0;bottom: 0;left: 50%;z-index: 0;}#sk-container-id-1 div.sk-serial {display: flex;flex-direction: column;align-items: center;background-color: white;padding-right: 0.2em;padding-left: 0.2em;position: relative;}#sk-container-id-1 div.sk-item {position: relative;z-index: 1;}#sk-container-id-1 div.sk-parallel {display: flex;align-items: stretch;justify-content: center;background-color: white;position: relative;}#sk-container-id-1 div.sk-item::before, #sk-container-id-1 div.sk-parallel-item::before {content: \"\";position: absolute;border-left: 1px solid gray;box-sizing: border-box;top: 0;bottom: 0;left: 50%;z-index: -1;}#sk-container-id-1 div.sk-parallel-item {display: flex;flex-direction: column;z-index: 1;position: relative;background-color: white;}#sk-container-id-1 div.sk-parallel-item:first-child::after {align-self: flex-end;width: 50%;}#sk-container-id-1 div.sk-parallel-item:last-child::after {align-self: flex-start;width: 50%;}#sk-container-id-1 div.sk-parallel-item:only-child::after {width: 0;}#sk-container-id-1 div.sk-dashed-wrapped {border: 1px dashed gray;margin: 0 0.4em 0.5em 0.4em;box-sizing: border-box;padding-bottom: 0.4em;background-color: white;}#sk-container-id-1 div.sk-label label {font-family: monospace;font-weight: bold;display: inline-block;line-height: 1.2em;}#sk-container-id-1 div.sk-label-container {text-align: center;}#sk-container-id-1 div.sk-container {/* jupyter's `normalize.less` sets `[hidden] { display: none; }` but bootstrap.min.css set `[hidden] { display: none !important; }` so we also need the `!important` here to be able to override the default hidden behavior on the sphinx rendered scikit-learn.org. See: https://github.com/scikit-learn/scikit-learn/issues/21755 */display: inline-block !important;position: relative;}#sk-container-id-1 div.sk-text-repr-fallback {display: none;}</style><div id=\"sk-container-id-1\" class=\"sk-top-container\"><div class=\"sk-text-repr-fallback\"><pre>XGBRegressor(base_score=None, booster=None, callbacks=None,\n",
       "             colsample_bylevel=None, colsample_bynode=None,\n",
       "             colsample_bytree=None, device=None, early_stopping_rounds=None,\n",
       "             enable_categorical=False, eval_metric=None, feature_types=None,\n",
       "             gamma=None, grow_policy=None, importance_type=None,\n",
       "             interaction_constraints=None, learning_rate=None, max_bin=None,\n",
       "             max_cat_threshold=None, max_cat_to_onehot=None,\n",
       "             max_delta_step=None, max_depth=9, max_leaves=None,\n",
       "             min_child_weight=None, missing=nan, monotone_constraints=None,\n",
       "             multi_strategy=None, n_estimators=20, n_jobs=None,\n",
       "             num_parallel_tree=None, random_state=None, ...)</pre><b>In a Jupyter environment, please rerun this cell to show the HTML representation or trust the notebook. <br />On GitHub, the HTML representation is unable to render, please try loading this page with nbviewer.org.</b></div><div class=\"sk-container\" hidden><div class=\"sk-item\"><div class=\"sk-estimator sk-toggleable\"><input class=\"sk-toggleable__control sk-hidden--visually\" id=\"sk-estimator-id-1\" type=\"checkbox\" checked><label for=\"sk-estimator-id-1\" class=\"sk-toggleable__label sk-toggleable__label-arrow\">XGBRegressor</label><div class=\"sk-toggleable__content\"><pre>XGBRegressor(base_score=None, booster=None, callbacks=None,\n",
       "             colsample_bylevel=None, colsample_bynode=None,\n",
       "             colsample_bytree=None, device=None, early_stopping_rounds=None,\n",
       "             enable_categorical=False, eval_metric=None, feature_types=None,\n",
       "             gamma=None, grow_policy=None, importance_type=None,\n",
       "             interaction_constraints=None, learning_rate=None, max_bin=None,\n",
       "             max_cat_threshold=None, max_cat_to_onehot=None,\n",
       "             max_delta_step=None, max_depth=9, max_leaves=None,\n",
       "             min_child_weight=None, missing=nan, monotone_constraints=None,\n",
       "             multi_strategy=None, n_estimators=20, n_jobs=None,\n",
       "             num_parallel_tree=None, random_state=None, ...)</pre></div></div></div></div></div>"
      ],
      "text/plain": [
       "XGBRegressor(base_score=None, booster=None, callbacks=None,\n",
       "             colsample_bylevel=None, colsample_bynode=None,\n",
       "             colsample_bytree=None, device=None, early_stopping_rounds=None,\n",
       "             enable_categorical=False, eval_metric=None, feature_types=None,\n",
       "             gamma=None, grow_policy=None, importance_type=None,\n",
       "             interaction_constraints=None, learning_rate=None, max_bin=None,\n",
       "             max_cat_threshold=None, max_cat_to_onehot=None,\n",
       "             max_delta_step=None, max_depth=9, max_leaves=None,\n",
       "             min_child_weight=None, missing=nan, monotone_constraints=None,\n",
       "             multi_strategy=None, n_estimators=20, n_jobs=None,\n",
       "             num_parallel_tree=None, random_state=None, ...)"
      ]
     },
     "execution_count": 74,
     "metadata": {},
     "output_type": "execute_result"
    }
   ],
   "source": [
    "# Create a XGB regressor model\n",
    "model = XGBRegressor(n_estimators=20,max_depth=9)\n",
    "\n",
    "# Fit the model on the training data\n",
    "model.fit(X_train, y_train)"
   ]
  },
  {
   "cell_type": "code",
   "execution_count": 75,
   "id": "9818eef9",
   "metadata": {},
   "outputs": [
    {
     "name": "stdout",
     "output_type": "stream",
     "text": [
      "Mean Absolute Error (MAE): 5.77\n",
      "Mean Squared Error (MSE): 53.69\n",
      "Root Mean Squared Error (RMSE): 7.33\n",
      "R-squared (R2) Score: 0.38\n"
     ]
    }
   ],
   "source": [
    "#Evaluate Model\n",
    "# Make predictions on the test data\n",
    "y_pred = model.predict(X_test)\n",
    "\n",
    "mae = mean_absolute_error(y_test, y_pred)\n",
    "mse = mean_squared_error(y_test, y_pred)\n",
    "rmse = np.sqrt(mse)\n",
    "r2 = r2_score(y_test, y_pred)\n",
    "\n",
    "print(\"Mean Absolute Error (MAE):\", round(mae,2))\n",
    "print(\"Mean Squared Error (MSE):\", round(mse,2))\n",
    "print(\"Root Mean Squared Error (RMSE):\", round(rmse,2))\n",
    "print(\"R-squared (R2) Score:\", round(r2,2))"
   ]
  },
  {
   "cell_type": "code",
   "execution_count": null,
   "id": "6bf08bb5",
   "metadata": {},
   "outputs": [],
   "source": []
  }
 ],
 "metadata": {
  "kernelspec": {
   "display_name": "Python 3 (ipykernel)",
   "language": "python",
   "name": "python3"
  },
  "language_info": {
   "codemirror_mode": {
    "name": "ipython",
    "version": 3
   },
   "file_extension": ".py",
   "mimetype": "text/x-python",
   "name": "python",
   "nbconvert_exporter": "python",
   "pygments_lexer": "ipython3",
   "version": "3.11.5"
  }
 },
 "nbformat": 4,
 "nbformat_minor": 5
}
